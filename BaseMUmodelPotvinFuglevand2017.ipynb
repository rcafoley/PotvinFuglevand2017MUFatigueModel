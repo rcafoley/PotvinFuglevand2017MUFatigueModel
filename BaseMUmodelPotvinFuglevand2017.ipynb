{
  "nbformat": 4,
  "nbformat_minor": 0,
  "metadata": {
    "colab": {
      "provenance": [],
      "authorship_tag": "ABX9TyMPsBTIfeXXtinF5rN6aYaN",
      "include_colab_link": true
    },
    "kernelspec": {
      "name": "python3",
      "display_name": "Python 3"
    },
    "language_info": {
      "name": "python"
    }
  },
  "cells": [
    {
      "cell_type": "markdown",
      "metadata": {
        "id": "view-in-github",
        "colab_type": "text"
      },
      "source": [
        "<a href=\"https://colab.research.google.com/github/rcafoley/PotvinFuglevand2017MUFatigueModel/blob/main/BaseMUmodelPotvinFuglevand2017.ipynb\" target=\"_parent\"><img src=\"https://colab.research.google.com/assets/colab-badge.svg\" alt=\"Open In Colab\"/></a>"
      ]
    },
    {
      "cell_type": "markdown",
      "source": [
        "Potvin & Fuglevand 2017 Phenomenological 120 Motor Unit Fatigue Model converted to python from Matlab"
      ],
      "metadata": {
        "id": "bkIXMftMFK21"
      }
    },
    {
      "cell_type": "code",
      "source": [
        "# %% Import Packages\n",
        "\n",
        "import math\n",
        "import numpy as np\n",
        "import pandas as pd"
      ],
      "metadata": {
        "id": "3SGKgbSBFakT"
      },
      "execution_count": 24,
      "outputs": []
    },
    {
      "cell_type": "code",
      "source": [
        "# %% Setup timing functions\n",
        "\n",
        "#create our timing functions, more tic and toc variables can be added to time \n",
        "#multiple sectionss\n",
        "import time\n",
        "\n",
        "def TicTocGenerator():\n",
        "    # Generator that returns time differences\n",
        "    ti = 0           # initial time\n",
        "    tf = time.time() # final time\n",
        "    while True:\n",
        "        ti = tf\n",
        "        tf = time.time()\n",
        "        yield tf-ti # returns the time difference\n",
        "\n",
        "TicToc = TicTocGenerator() # create an instance of the TicTocGen generator\n",
        "\n",
        "# This will be the main function through which we define both tic() and toc()\n",
        "def toc(tempBool=True):\n",
        "    # Prints the time difference yielded by generator instance TicToc\n",
        "    tempTimeInterval = next(TicToc)\n",
        "    if tempBool:\n",
        "        print( \"Elapsed time: %f seconds.\\n\" %tempTimeInterval )\n",
        "\n",
        "def tic():\n",
        "    # Records a time in TicToc, marks the beginning of a time interval\n",
        "    toc(False)"
      ],
      "metadata": {
        "id": "FZmpeKBPFcxB"
      },
      "execution_count": 25,
      "outputs": []
    },
    {
      "cell_type": "code",
      "source": [
        "tic()\n",
        "\n",
        "# %% Model Static Physiological Input Parameters\n",
        "\n",
        "nu = 120           # number of neurons (ie. motor units) in the modeled pool \n",
        "\n",
        "samprate = 10      # sample rate (10 Hz is suggested)\n",
        "res = 100          # resolution of activations (set = 10 for 0.1 activation resolution, 100 for 0.01)\n",
        "hop = 20           # allows for hopping through activations to more rapidly find that which meets the threshold (10 means every 1/10th of maxact)\n",
        "r = 50             # range of recruitment thresholds (30 or 50)\n",
        "\n",
        "fat = 180          # range of fatigue rates across the motor units (300 best)\n",
        "rec = 180          # range of recovery rates across the motor units (300 best)\n",
        "FatFac = 0.0225    # fatigue factor (FF/S) percent of peak force of MU per second \n",
        "\n",
        "tau = 22           # 22 based on Revill & Fuglevand (2011)\n",
        "adaptSF = 0.67     # 0.67 from Revill & Fuglevand (2011)\n",
        "ctSF = 0.379       # 0.379 based on Shields et al (1997)\n",
        "\n",
        "mthr = 1           # minimum recruitment threshold\n",
        "a0 = 1              # recruitment gain paramter (1)\n",
        "minfr = 8          # minimum firing rate (8)\n",
        "recminfr = 8       # firing rate where recovery element is engaged\n",
        "pfr1 = 35          # peak firing rate of first recruited motor unit (35)\n",
        "pfrL = 25          # peak firing rate of last recruited motor unit (25)\n",
        "mir = 1            # slope of the firing rate increase vs excitation (1)\n",
        "rp = 100           # range of twitch tensions (100)\n",
        "rt = 3             # range of contraction times (3 fold)\n",
        "tL = 90            # longest contraction time (90) "
      ],
      "metadata": {
        "id": "oUoB-vrxFjSe"
      },
      "execution_count": 26,
      "outputs": []
    },
    {
      "cell_type": "code",
      "source": [
        "#Create isotonic data -----------------------------------\n",
        "\n",
        "fthscale = 0.9             # sets %MVC level for the trial duration (100% MVC is 1.00)\n",
        "con = '0.90'               # for output file names\n",
        "fthtime = 100              # duration to run trial (seconds)\n",
        "\n",
        "fthsamp = fthtime * samprate \n",
        "fth = np.array(range(fthsamp+1))\n",
        "fth = np.select([fth < fthsamp], [fthscale], fth)"
      ],
      "metadata": {
        "id": "DeNod4XLFyW_"
      },
      "execution_count": 27,
      "outputs": []
    },
    {
      "cell_type": "code",
      "source": [
        "# %% MU Pool Physiological Calculations from the Fuglevand, Winter & Patla (1993) Model \n",
        "\n",
        "    #array of samples for fth\n",
        "ns = np.zeros(fthsamp+1)\n",
        "ns = np.array(range(1,(fthsamp+1)))"
      ],
      "metadata": {
        "id": "oCBXEg2sFz7b"
      },
      "execution_count": 28,
      "outputs": []
    },
    {
      "cell_type": "code",
      "source": [
        "#Recruitment Threshold Excitation (thr) \n",
        "thr = np.zeros(nu+1)\n",
        "n = np.array(range(0, nu+1))     #had to add a 0 to the start of n, so any array-wise math with n will have to insert a 0 at the start, do the math then remove the zero\n",
        "b0 = math.log(r + (1-mthr)) / (nu-1)             # this was modified from Fuglevand et al (1993) RTE(i) equation (1)\n",
        "thr = list(range(nu+1))\n",
        "for p in range(1,nu+1):                                 # as that did not create the exact range of RTEs (ie. 'r') entered\n",
        "    thr[p] = a0 * math.exp((p-1) * b0) - (1 - mthr)\n"
      ],
      "metadata": {
        "id": "zt5IUyfQF35_"
      },
      "execution_count": 29,
      "outputs": []
    },
    {
      "cell_type": "code",
      "source": [
        "# Peak Firing Rate (frp) \n",
        "# modified from Fuglevand et al (1993) PFR equation (5) to remove thr(1) before ratio\n",
        "frdiff = pfr1-pfrL\n",
        "thr = np.array(thr)\n",
        "# thrTemp = np.insert(thr, 0, 1)\n",
        "frp = pfr1 - frdiff*((thr[n] - thr[1])/(r - thr[1]))\n",
        "# frp = np.delete(frpTemp, 0)\n",
        "\n",
        "maxex = thr[nu] + (pfrL - minfr)/mir       # maximum excitation\n",
        "maxact = round(maxex * res)                # max excitation x resolution\n",
        "ulr = 100 * thr[nu]/maxex                  # recruitment threshold (%) of last motor unit\n",
        "# thr = np.delete(thrTemp, 0)"
      ],
      "metadata": {
        "id": "LOMBbnypF5g5"
      },
      "execution_count": 30,
      "outputs": []
    },
    {
      "cell_type": "code",
      "source": [
        "# Firing Rates for each MU with increased excitation (act)\n",
        "mufr = np.zeros((nu+1, (maxact+1)))\n",
        "for mu1 in range(1,nu+1):\n",
        "    for act in range(1,maxact+1):\n",
        "        acti = (act)/res\n",
        "        if acti >= thr[mu1]:\n",
        "            mufr[mu1, act] = mir * (acti - thr[mu1]) + minfr  \n",
        "        if mufr[mu1, act] > frp[mu1]:   \n",
        "            mufr[mu1, act] = frp[mu1]\n",
        "        elif acti < thr[mu1]:\n",
        "            mufr[mu1, act] = 0\n",
        "k = np.array(range(maxact+1))  #range of excitation levels"
      ],
      "metadata": {
        "id": "61yskWuFF9Yw"
      },
      "execution_count": 31,
      "outputs": []
    },
    {
      "cell_type": "code",
      "source": [
        "# Twitch peak force (P) \n",
        "b1 = math.log(rp)/(nu-1)                 # this was modified from Fuglevand et al (1993) P(i) equation (13)\n",
        "Ptemp1 = map(lambda n: math.exp(b1 * (n-1)), n)     # this is changed for python to be able to apply arraywise calculations easier to a single output\n",
        "Ptemp2 = list(Ptemp1)               #convert to list to array and removes 0 point to get indexing back on track \n",
        "Ptemp3 = np.array(Ptemp2)\n",
        "# P = np.delete(Ptemp3, 0)\n",
        "P = Ptemp3\n",
        "P[0] = 0 "
      ],
      "metadata": {
        "id": "aJqdiOv8F_bU"
      },
      "execution_count": 32,
      "outputs": []
    },
    {
      "cell_type": "code",
      "source": [
        "# Twitch contraction time (ct)        \n",
        "c1 = math.log(rp)/math.log(rt)                # scale factor\n",
        "ct = np.zeros(nu+1)        \n",
        "for mu2 in range(1,nu+1):                       # assigns contraction times to each motor unit (moved into loop)\n",
        "    ct[mu2] = tL * (1/P[mu2])**(1/c1)"
      ],
      "metadata": {
        "id": "sFG1XZG_GBrg"
      },
      "execution_count": 33,
      "outputs": []
    },
    {
      "cell_type": "code",
      "source": [
        "# Normalized motor unit firing rates (nmufr) with increased excitation (act)\n",
        "nmufr = np.zeros((nu+1, maxact+1))\n",
        "for mu3 in range(1,nu+1):                       \n",
        "    for act in range(1,maxact+1):\n",
        "        nmufr[mu3, act] = ct[mu3] * (mufr[mu3, act] / 1000)   # same as CT / ISI  "
      ],
      "metadata": {
        "id": "ea2uMvVwGE8F"
      },
      "execution_count": 34,
      "outputs": []
    },
    {
      "cell_type": "code",
      "source": [
        "# Motor unit force, relative to full fusion (Pr) with increasing excitation\n",
        "# based on Figure 2 of Fuglevand et al (1993)\n",
        "sPr = 1 - math.exp(-2 * (0.4**3))\n",
        "Pr = np.zeros((nu+1, maxact+1))\n",
        "for mu4 in range(1,nu+1):                       \n",
        "    for act in range(1,maxact+1):\n",
        "        if nmufr[mu4,act] <= 0.4:                      #linear portion of curve\n",
        "            Pr[mu4,act] = nmufr[mu4,act]/0.4 * sPr   #Pr = MU force relative to rest 100% max excitation of 67\n",
        "        if nmufr[mu4,act] > 0.4:\n",
        "            Pr[mu4,act] = 1 - math.exp(-2 * (nmufr[mu4,act]**3))"
      ],
      "metadata": {
        "id": "KHNeqNpdGG9y"
      },
      "execution_count": 35,
      "outputs": []
    },
    {
      "cell_type": "code",
      "source": [
        "# Motor unit force (muP) with increased excitation\n",
        "muP = np.zeros((nu+1, maxact+1))\n",
        "for mu5 in range(1,nu+1):\n",
        "    for act in range(1,maxact+1): \n",
        "        muP[mu5,act] = Pr[mu5,act] * P[mu5]\n",
        "\n",
        "totalP = np.sum(muP,0)                                # sum of forces across MUs for each excitation (dim 1)\n",
        "maxP = totalP[maxact]"
      ],
      "metadata": {
        "id": "23ST8fCJGIaO"
      },
      "execution_count": 36,
      "outputs": []
    },
    {
      "cell_type": "code",
      "source": [
        "# Total Force across all motor units when rested\n",
        "Pnow = np.zeros((nu+1, fthsamp+2))\n",
        "Pnow[:,1] = P[:]"
      ],
      "metadata": {
        "id": "O9o3HDeFGMkA"
      },
      "execution_count": 37,
      "outputs": []
    },
    {
      "cell_type": "code",
      "source": [
        "# %% Calculation of Fatigue Parameters (recovery currently set to zero in this version)\n",
        "    \n",
        "    # note, if rp = 100 & fat = 180, there will be a 100 x 180 = 1800-fold difference in\n",
        "    # the absolute fatigue of the highest threshold vs the lowest threshold.\n",
        "    # The highest threshold MU will only achieve ~57% of its maximum (at 25 Hz), so the actual range of fatigue\n",
        "    # rates is 1800 x 0.57 = 1026 \n",
        "    \n",
        "\n",
        "# fatigue rate for each motor unit  (note: \"log\" means \"ln\" in Matlab)\n",
        "b2 = math.log(fat)/(nu-1)       \n",
        "mufatrateTemp1 = map(lambda n: math.exp(b2 * (n-1)), n)      \n",
        "mufatrateTemp2 = list(mufatrateTemp1)               #convert to list to array and removes 0 point to get indexing back on track \n",
        "mufatrateTemp3 = np.array(mufatrateTemp2)\n",
        "# mufatrate = np.delete(mufatrateTemp3, 0)\n",
        "mufatrate = mufatrateTemp3 \n",
        "mufatrate[0] = 0\n",
        "\n",
        "\n",
        "fatigue = np.zeros(nu+1)\n",
        "for mu6 in range(1,nu+1):\n",
        "    fatigue[mu6] = mufatrate[mu6] * (FatFac / fat) * P[mu6]    \n",
        "        # the full fatigue rate is mufatrate[mu] * [FatFac / fat] * Pr[mu,act] * P[mu]\n",
        "        # the only variable is the relative force: Pr([u,act], so this part is calculated once here"
      ],
      "metadata": {
        "id": "8IbKNSihGPZf"
      },
      "execution_count": 38,
      "outputs": []
    },
    {
      "cell_type": "code",
      "source": [
        "# Establishing the rested excitation required for each target load level (if 0.1% resolution, then 0.1% to 100%)    \n",
        "startactTemp = np.zeros(101)    \n",
        "for force in range(101):\n",
        "    startactTemp[force] = 0    # excitation will never be lower than that needed at rest for a given force\n",
        "    for act1 in range(1,maxact+1):      # so it speeds the search up by starting at this excitation\n",
        "        if (totalP[act1]/maxP * 100) < force:\n",
        "            startactTemp[force] = act1-1 \n",
        "# startact = np.delete(startactTemp, 0)\n",
        "startact = startactTemp \n",
        "\n",
        "\n",
        "Pchangecurves = np.zeros((nu+1, maxact))\n",
        "for act in range(maxact):\n",
        "    for mu8 in range(1,nu+1):\n",
        "        Pchangecurves[mu8,act] = fatigue[mu8] * Pr[mu8, act] * P[mu8]  # just used for graphical display"
      ],
      "metadata": {
        "id": "635Z5kFSGUX4"
      },
      "execution_count": 39,
      "outputs": []
    },
    {
      "cell_type": "code",
      "execution_count": 40,
      "metadata": {
        "colab": {
          "base_uri": "https://localhost:8080/"
        },
        "id": "52t1uGxznEhG",
        "outputId": "8ebbdf7c-5c91-4db5-cd03-ad6c920fcf0a"
      },
      "outputs": [
        {
          "output_type": "stream",
          "name": "stdout",
          "text": [
            "start of fatigue analysis\n",
            "60.0\n"
          ]
        }
      ],
      "source": [
        "mes = 'start of fatigue analysis'\n",
        "print(mes)\n",
        "\n",
        "# %% Moving through force time-history and determing the excitation required to meet the target force at each time\n",
        "\n",
        "TmuPinstant = np.zeros((nu+1, fthsamp+1)) \n",
        "m = np.zeros(fthsamp+1)\n",
        "mufrFAT = np.zeros((nu+1, fthsamp+1))\n",
        "ctFAT = np.zeros((nu+1, fthsamp+1))\n",
        "ctREL = np.zeros((nu+1, fthsamp+1))\n",
        "nmufrFAT = np.zeros((nu+1, fthsamp+1))\n",
        "PrFAT = np.zeros((nu+1, fthsamp+1))\n",
        "muPt = np.zeros((nu+1, fthsamp+1))\n",
        "TPt = np.zeros(fthsamp+1)\n",
        "Ptarget = np.zeros(fthsamp+1)\n",
        "Tact = np.zeros(fthsamp+1)\n",
        "Pchange = np.zeros((nu+1, fthsamp+1))\n",
        "TPtMAX = np.zeros(fthsamp+1)\n",
        "muPtMAX = np.zeros((nu+1, fthsamp+1)) \n",
        "muON = np.zeros(nu+1)\n",
        "adaptFR = np.zeros((nu+1,fthsamp+1))\n",
        "Rdur = np.zeros(nu+1)\n",
        "Rdur2 = np.zeros((nu+1,fthsamp+1))\n",
        "acttemp = np.zeros((fthsamp+1, maxact))\n",
        "muPna = np.zeros((nu+1, fthsamp+1))\n",
        "muForceCapacityRel = np.zeros((nu+1, fthsamp+1))\n",
        "timer = 0\n",
        "\n",
        "  \n",
        "for i in range(1,fthsamp+1): \n",
        "\n",
        "    if (i) == (timer + 1) * samprate * 60:         # shows a timer value every 15 seconds\n",
        "        timer = timer + 1\n",
        "        current = (i) / samprate\n",
        "        print(current)\n",
        "    \n",
        "        \n",
        "    force = round(fth[i] * 100) + 1            # used to start at the minimum possible excitation (lowest it can be is 1)\n",
        "    if force > 100:                                # so start with excitation needed for fth(i) when rested (won't be lower than this)\n",
        "        force = 100\n",
        "\n",
        "\n",
        "    s = startact[force] - (5 * res)            # starts a little below the minimum    \n",
        "    if s < 1:\n",
        "        s = 1\n",
        "\n",
        "\n",
        "    acthop = round((maxact / hop))              # resets 'acthop' to larger value for new sample\n",
        "    act = int(s)                                     # start at lowest value then start jumping by 'acthop'\n",
        "    for a1 in range(1,maxact+1):                        # this starts at the mimimum (s) then searches for excitation required to meet the target\n",
        "        acttemp[i,a1] = act\n",
        "        for mu9 in range(1,nu+1): \n",
        "            # MU firing rate adaptation modified from Revill & Fuglevand (2011)\n",
        "            # this was modified to directly calculate the firing rate adaption, as 1 unit change in excitation causes 1 unit change in firing rate\n",
        "            # scaled to the mu threshold (highest adaptation for hightest threshold mu)\n",
        "\n",
        "            if muON[mu9] > 0:\n",
        "                Rdur[mu9] = (i - muON[mu9]+1)/samprate                             # duration since mu was recruited at muON\n",
        "                Rdur2[mu9,i]  = Rdur[mu9]\n",
        "            if Rdur[mu9] < 0:     \n",
        "                Rdur[mu9] = 0 \n",
        "                Rdur2[mu9,i]  = Rdur            \n",
        "            \n",
        "            adaptFR[mu9,i] = (thr[mu9]-1)/(thr[nu]-1) * adaptSF * (mufr[mu9,act] - minfr + 2) * (1 - math.exp(-1 * Rdur[mu9] / tau)) \n",
        "            if adaptFR[mu9,i] < 0:                                                # firing rate adaptation\n",
        "                adaptFR[mu9,i] = 0\n",
        "\n",
        "            mufrFAT[mu9,i] = mufr[mu9,act] - adaptFR[mu9,i]                           # adapted motor unit firing rate: based on time since recruitment\n",
        "            mufrMAX = mufr[mu9,maxact] - adaptFR[mu9,i]                        # adapted FR at max excitation\n",
        "\n",
        "            ctFAT[mu9,i] = ct[mu9] * (1 + ctSF * (1 - Pnow[mu9,i]/P[mu9]))             # corrected contraction time: based on MU fatigue\n",
        "            ctREL[mu9,i] = ctFAT[mu9,i]/ct[mu9]\n",
        "\n",
        "            nmufrFAT[mu9,i] = ctFAT[mu9,i] * (mufrFAT[mu9,i] / 1000)                 # adapted normalized Stimulus Rate (CT * FR)\n",
        "            nmufrMAX = ctFAT[mu9,i] * (mufrMAX / 1000)                        # normalized FR at max excitation\n",
        "        \n",
        "            if nmufrFAT[mu9,i] <= 0.4:                                                 # fusion level at adapted firing rate \n",
        "                PrFAT[mu9,i] = nmufrFAT[mu9,i] / 0.4 * sPr                         #   linear portion of curve\n",
        "\n",
        "            if nmufrFAT[mu9,i] > 0.4:                                                 #   non-linear portion of curve\n",
        "                PrFAT[mu9,i] = 1 - math.exp(-2 * (nmufrFAT[mu9,i]**3))\n",
        "\n",
        "            muPt[mu9,i] = PrFAT[mu9,i] * Pnow[mu9,i]                               # MU force at the current time (muPt): based on adapted postion on fusion curve\n",
        "                \n",
        "            if nmufrMAX <= 0.4:                                                   # fusion force at 100% maximum excitation\n",
        "                PrMAX = nmufrMAX / 0.4 * sPr                                  \n",
        "\n",
        "            if nmufrMAX > 0.4:\n",
        "                PrMAX = 1 - math.exp(-2 * (nmufrMAX**3))\n",
        "\n",
        "            muPtMAX[mu9,i] = PrMAX * Pnow[mu9,i]                               # Max MU force capacity at the current time \n",
        "   \n",
        "    \n",
        "        muPtTemp = sum(muPt,0)\n",
        "        TPt[i] = muPtTemp[i]/maxP                                               # total sum of MU forces at the current time (TPt)\n",
        "        TPtMAX[i] = sum(muPtMAX[:,i])/maxP\n",
        "        \n",
        "        # used to speed up the search for the right excitation to meet the current target\n",
        "        if ((TPt[i] < fth[i]) and (act == maxact)):\n",
        "            break\n",
        "\n",
        "        if ((TPt[i]) < (fth[i])):\n",
        "            act = act + acthop\n",
        "            if act > (maxact):\n",
        "                act = maxact\n",
        "\n",
        "        if ((TPt[i] >= fth[i]) and (acthop == 1)):     \n",
        "            break                                   # stop searching as the correct excitation is found\n",
        "     \n",
        "        if ((TPt[i] >= fth[i]) and (acthop > 1)):\n",
        "            act = act - (acthop - 1)                # if the last large jump was too much, it goes back and starts increasing by 1\n",
        "            if act < 1:\n",
        "                act = 1\n",
        "\n",
        "            acthop = 1\n",
        "\n",
        "        # next excitation (act)\n",
        "        \n",
        "    for mu10 in range(1,nu+1):\n",
        "        if ((muON[mu10] == 0) and ((act/res) >= thr[mu10])):         # can be modified to reset if the MU turns off\n",
        "            muON[mu10] = i                                        # time of onset of mu recruitment (s)\n",
        "\n",
        "\n",
        "    Ptarget[i] = TPt[i]        # modeled force level ?? do I need to do this, or can I just use TPt(i)\n",
        "    Tact[i] = act              # descending (not adapted) excitation required to meet the target force at the current time\n",
        "    \n",
        "    # Calculating the fatigue (force loss) for each motor unit\n",
        "\n",
        "    for mu11 in range(1,nu+1):\n",
        "        if mufrFAT[mu11,i] >= 0:                                                 # Force loss of each MU for each interval\n",
        "            Pchange[mu11,i] = -1 * (fatigue[mu11] / samprate) * PrFAT[mu11, i]       # based on % of MU fusion force\n",
        "        #elif mufrFAT[mu11, i] < recminfr:                                        \n",
        "             #Pchange[mu11,i] = recovery[mu11] / samprate   \n",
        "\n",
        "\n",
        "        if i < 2:\n",
        "            Pnow[mu11, i+1] = P[mu11]\n",
        "               # Pnow[mu11, i+1] = 0  # Use this to start the muscle fully exhausted\n",
        "        elif i >= 2:\n",
        "            Pnow[mu11, i+1] = Pnow[mu11, i] + Pchange[mu11,i]                            # instantaneous strength of MU\n",
        "                                                                                    # right now without adaptation\n",
        "     \n",
        "        if Pnow[mu11, i+1] >= P[mu11]:\n",
        "            Pnow[mu11, i+1] = P[mu11]                                                   # does not let it increase past rested strength\n",
        "    \n",
        "    \n",
        "        if Pnow[mu11, i+1] < 0:\n",
        "            Pnow[mu11, i+1] = 0                                                       # does not let it fatigue below zero\n",
        "    \n",
        "# next motor unit\n",
        "  \n",
        "# next fthsamp\n"
      ]
    },
    {
      "cell_type": "code",
      "source": [
        "# %% Strength Calculations\n",
        "\n",
        "Tstrength = np.zeros(fthsamp+1)  \n",
        "for j in range(1,fthsamp+1):\n",
        "    for mu in range(1,nu+1):\n",
        "        muPna[mu,j] = Pnow[mu,j] * muP[mu,maxact] / P[mu]                          # non-adapted MU max force at 100% excitation (muPna)            \n",
        "\n",
        "    Tstrength[j] = sum(muPna[:,j]) / maxP                                          # Current total strength without adaptation relative to max rested capacity\n",
        "\n",
        "for g in range(1,fthsamp+1):                                   \n",
        "    endurtime = g / samprate \n",
        "    if TPtMAX[g] < fth[g]:\n",
        "        break            "
      ],
      "metadata": {
        "id": "KL3dojJVGe8u"
      },
      "execution_count": 41,
      "outputs": []
    },
    {
      "cell_type": "code",
      "source": [
        "# %% Output\n",
        "                \n",
        "EndStrength = (TPtMAX[fthsamp] * 100)\n",
        "\n",
        "print(endurtime)\n",
        "print(EndStrength)\n",
        "            \n",
        "for mu12 in range(1,nu+1):\n",
        "    if mu12 == 0:\n",
        "        mu12 = 1\n",
        "\n",
        "    muForceCapacityRel[mu12,ns] = Pnow[mu12,ns]*100/P[mu12]  # for outputs below\n",
        "    \n",
        "\n",
        "sampleRate1 = ns/samprate\n",
        "times = np.insert(sampleRate1,0,0)\n",
        "forceTimeHistory = fth\n",
        "activationLevel = Tact[:]/res/maxex * 100\n",
        "strengthCapacity = Tstrength[:] * 100\n",
        "targetForce = Ptarget[:] * 100\n",
        "instantaneousStrength = TPtMAX[:]* 100\n",
        "\n",
        "\n",
        "combo = pd.DataFrame(data = [times,forceTimeHistory,\n",
        "                             activationLevel,strengthCapacity, targetForce, instantaneousStrength])\n",
        "combo_t = combo.T\n",
        "combo_t.columns = [\"time\",\"percentActivation\",\"forceTimeHistory\",\"totalStrengthCapacity\",\"targetForce\",\"maxInstantaneousForce\"]\n",
        "\n",
        "\n",
        "combo_t.to_csv(con + \" A - Target - Act - Strength (no adapt) - Force - Strength (w adapt).csv\") \n",
        "np.savetxt(con + \" B - Firing Rate.csv\", np.transpose(mufrFAT), delimiter=\",\")\n",
        "np.savetxt(con + \" C - Individual MU Force Time-History.csv\", np.transpose(muPt), delimiter=\",\")\n",
        "np.savetxt(con + \" D - MU Capacity - relative.csv\", np.transpose(muForceCapacityRel), delimiter=\",\")\n",
        "\n",
        "#end of script \n",
        "toc() "
      ],
      "metadata": {
        "colab": {
          "base_uri": "https://localhost:8080/"
        },
        "id": "JTZ1tnEXGiK5",
        "outputId": "e5bb9730-4caa-4999-f535-b2ceeb6cfbf5"
      },
      "execution_count": 42,
      "outputs": [
        {
          "output_type": "stream",
          "name": "stdout",
          "text": [
            "6.5\n",
            "37.41500309741526\n",
            "Elapsed time: 55.050385 seconds.\n",
            "\n"
          ]
        }
      ]
    }
  ]
}